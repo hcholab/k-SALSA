{
 "cells": [
  {
   "cell_type": "code",
   "execution_count": 13,
   "id": "c531311f-6e9e-42f4-8267-a107695931e5",
   "metadata": {},
   "outputs": [],
   "source": [
    "import pandas as pd\n",
    "import numpy as np\n",
    "import matplotlib.pyplot as plt\n",
    "from collections import Counter\n",
    "\n",
    "import torch\n",
    "import torch.nn as nn\n",
    "import torch.nn.functional as F \n",
    "\n",
    "import os\n",
    "import shutil"
   ]
  },
  {
   "cell_type": "code",
   "execution_count": 6,
   "id": "39a38326-f014-4c16-8722-24c711ace28b",
   "metadata": {},
   "outputs": [],
   "source": [
    "def make_labels(df, group_by_centers, data_name='eyepacs'):\n",
    "    labels_lst = []\n",
    "    for i in range(len(group_by_centers)):\n",
    "        a = df[df['centers']==i]\n",
    "        if data_name == 'eyepacs':\n",
    "            a_array = np.asarray(a['level'])\n",
    "        else:\n",
    "            a_array = np.asarray(a['diagnosis'])\n",
    "        cluster_label = Counter(a_array)\n",
    "        labels = np.zeros([5])\n",
    "        \n",
    "        for j in range(5):\n",
    "            labels[j] = cluster_label[j]\n",
    "        labels_lst.append(labels)\n",
    "        \n",
    "    labels_npy = np.asarray(labels_lst)\n",
    "    labels_tensor = torch.from_numpy(labels_npy)\n",
    "    normalized_labels = F.softmax(labels_tensor)\n",
    "\n",
    "    normalized_labels_npy = np.asarray(normalized_labels)\n",
    "    return normalized_labels_npy"
   ]
  },
  {
   "cell_type": "code",
   "execution_count": 7,
   "id": "d8e53793-c16f-434f-bf96-092158cd6d32",
   "metadata": {},
   "outputs": [],
   "source": [
    "def make_centroid_folder(df, group_by_centers, data_path, label_path, data_name='eyepacs'):\n",
    "    lst_for_id = []\n",
    "    for i in range(len(group_by_centers)):\n",
    "        lst_for_id.append(df[df['centers']==i]['id_code'].iloc[0])\n",
    "\n",
    "    lst_for_centers = []\n",
    "    for i in range(len(group_by_centers)):\n",
    "        lst_for_centers.append(i)\n",
    "    \n",
    "    data = {'id_code': lst_for_id, 'centers':lst_for_centers}\n",
    "    new_data = pd.DataFrame(data)\n",
    "    new_data.to_csv(label_path,index=False)\n",
    "\n",
    "    source = data_path+'4/'\n",
    "    dest = data_path+'k5_images/'\n",
    "    \n",
    "    total_data_lst = os.listdir(data_path+'4')\n",
    "    print(len(total_data_lst))\n",
    "    \n",
    "    for i in range(len(total_data_lst)):\n",
    "        if data_name=='eyepacs':\n",
    "            a = new_data[total_data_lst[i][:-5] == new_data['id_code']]['id_code']+'.jpeg'\n",
    "        elif data_name=='aptos':\n",
    "            a = new_data[total_data_lst[i][:-4] == new_data['id_code']]['id_code']+'.png'\n",
    "        \n",
    "        name = a.to_string(index=False)\n",
    "        if name =='Series([], )':\n",
    "            pass\n",
    "        else:\n",
    "            shutil.move(source+name, dest)"
   ]
  },
  {
   "cell_type": "markdown",
   "id": "8479bfc4-08f3-4877-aa92-8109bf8ae32d",
   "metadata": {},
   "source": [
    "# EyePACS"
   ]
  },
  {
   "cell_type": "code",
   "execution_count": 4,
   "id": "63f70c3c-2c8a-4aaa-9288-9baa7ee7d72f",
   "metadata": {},
   "outputs": [],
   "source": [
    "eyepacs_csv = pd.read_csv('/home/minkyu/privacy/data/splited_val/eyepacs/eyepacs_val_10000.csv')\n",
    "eyepacs_csv = eyepacs_csv.rename(columns={\"image\":\"id_code\"})\n",
    "eyepacs_csv.to_csv('./labels/new_eyepacs_csv.csv',index=False)"
   ]
  },
  {
   "cell_type": "code",
   "execution_count": 5,
   "id": "353ce2e4-2e38-47cd-859a-997ad5d21d21",
   "metadata": {},
   "outputs": [
    {
     "data": {
      "text/plain": [
       "10000"
      ]
     },
     "execution_count": 5,
     "metadata": {},
     "output_type": "execute_result"
    }
   ],
   "source": [
    "len(eyepacs_csv)"
   ]
  },
  {
   "cell_type": "markdown",
   "id": "9f824384-0a0f-4171-b830-de4a3f31aeb3",
   "metadata": {},
   "source": [
    "### W [16,512], K=5"
   ]
  },
  {
   "cell_type": "markdown",
   "id": "4c57403c-a3db-4795-98af-b614ac1a998f",
   "metadata": {},
   "source": [
    "### Make Labels"
   ]
  },
  {
   "cell_type": "code",
   "execution_count": 6,
   "id": "b1a2ddc2-0baa-4297-84c5-b9101c4a63e5",
   "metadata": {},
   "outputs": [
    {
     "data": {
      "text/plain": [
       "'/home/minkyu/privacy/ICML2022/classification2'"
      ]
     },
     "execution_count": 6,
     "metadata": {},
     "output_type": "execute_result"
    }
   ],
   "source": [
    "pwd"
   ]
  },
  {
   "cell_type": "code",
   "execution_count": 7,
   "id": "d0a1670a-d0cb-46e1-a49d-9eb29b511b4c",
   "metadata": {},
   "outputs": [],
   "source": [
    "k_5_eyepacs = pd.read_csv('/home/minkyu/privacy/ICML2022/classification2/labels/train_aptos_infer_eyepacs_k5.csv')\n",
    "new_eyepacs_csv = pd.read_csv('./labels/new_eyepacs_csv.csv')\n",
    "df_k5_eyepacs_W16 = pd.merge(k_5_eyepacs, new_eyepacs_csv, on='id_code')\n",
    "df_k5_eyepacs_W16.to_csv('./labels/df_k5_eyepacs_w16.csv')\n",
    "# df = pd.read_csv('./labels/df_k5_eyepacs_w16.csv')"
   ]
  },
  {
   "cell_type": "code",
   "execution_count": 8,
   "id": "b6a2c9e2-7170-408a-b3d4-7e52c504f3b8",
   "metadata": {},
   "outputs": [],
   "source": [
    "group_by_centers_k5_eyepacs_W16 = df_k5_eyepacs_W16.groupby(['centers'])"
   ]
  },
  {
   "cell_type": "code",
   "execution_count": 9,
   "id": "ed8cde7b-7d17-440b-913b-34c0a662b3f9",
   "metadata": {},
   "outputs": [
    {
     "name": "stderr",
     "output_type": "stream",
     "text": [
      "/home/minkyu/.conda/envs/privacy/lib/python3.7/site-packages/ipykernel_launcher.py:18: UserWarning: Implicit dimension choice for softmax has been deprecated. Change the call to include dim=X as an argument.\n"
     ]
    }
   ],
   "source": [
    "k5_eyepacs_W16_normalized_labels_npy = make_labels(df_k5_eyepacs_W16, group_by_centers_k5_eyepacs_W16)\n",
    "labels_name = './labels/k5_eyepacs_W16_normalized_labels.npy'\n",
    "np.save(labels_name, k5_eyepacs_W16_normalized_labels_npy)"
   ]
  },
  {
   "cell_type": "code",
   "execution_count": 32,
   "id": "bb3bf10c-cec6-4082-8c87-dde35faaebf7",
   "metadata": {},
   "outputs": [
    {
     "data": {
      "text/plain": [
       "tensor([0.9738, 0.0066, 0.0066, 0.0066, 0.0066], dtype=torch.float64)"
      ]
     },
     "execution_count": 32,
     "metadata": {},
     "output_type": "execute_result"
    }
   ],
   "source": [
    "# y = torch.from_numpy(k5_eyepacs_W16_normalized_labels_npy[0])\n",
    "# y = torch.max(y,1)[1]"
   ]
  },
  {
   "cell_type": "code",
   "execution_count": 31,
   "id": "f2513b3f-8835-413f-b01e-a8747e50ae6b",
   "metadata": {},
   "outputs": [
    {
     "data": {
      "text/plain": [
       "tensor(0.9738, dtype=torch.float64)"
      ]
     },
     "execution_count": 31,
     "metadata": {},
     "output_type": "execute_result"
    }
   ],
   "source": [
    "torch.max(torch.from_numpy(k5_eyepacs_W16_normalized_labels_npy[0]))"
   ]
  },
  {
   "cell_type": "markdown",
   "id": "17679185-3f2a-4780-baa7-a304311a51f5",
   "metadata": {},
   "source": [
    "### Make Centroid data folder"
   ]
  },
  {
   "cell_type": "code",
   "execution_count": 14,
   "id": "61436b4b-c9cc-4303-9921-197688feb0b7",
   "metadata": {},
   "outputs": [],
   "source": [
    "data_path = '/home/minkyu/privacy/ICML2022/classification2/centroids/eyepacs/W16/'\n",
    "label_path = './labels/centroid_eyepacs_k5_W16.csv'"
   ]
  },
  {
   "cell_type": "code",
   "execution_count": 15,
   "id": "56606b55-8768-402c-bf95-fc03f6191d91",
   "metadata": {},
   "outputs": [
    {
     "name": "stdout",
     "output_type": "stream",
     "text": [
      "10000\n"
     ]
    }
   ],
   "source": [
    "make_centroid_folder(df=df_k5_eyepacs_W16, group_by_centers=group_by_centers_k5_eyepacs_W16, data_path=data_path, label_path=label_path, data_name='eyepacs')"
   ]
  },
  {
   "cell_type": "markdown",
   "id": "ce1fbd93-d57c-427c-8f18-695c5e37c0f6",
   "metadata": {},
   "source": [
    "### W[1,512], K=5"
   ]
  },
  {
   "cell_type": "markdown",
   "id": "2b7e8661-ce50-4799-bf1c-fabc7f372eb5",
   "metadata": {},
   "source": [
    "### Make Labels"
   ]
  },
  {
   "cell_type": "code",
   "execution_count": 8,
   "id": "780cc701-b578-41e5-9f02-882c1226f8ac",
   "metadata": {},
   "outputs": [],
   "source": [
    "k_5_eyepacs_W1 = pd.read_csv('/home/minkyu/privacy/ICML2022/same_kmeans_W1/labels/train_aptos_infer_eyepacs_k5_1map2style.csv')\n",
    "new_eyepacs_csv = pd.read_csv('./labels/new_eyepacs_csv.csv')\n",
    "df_k5_eyepacs_W1 = pd.merge(k_5_eyepacs_W1, new_eyepacs_csv, on='id_code')\n",
    "df_k5_eyepacs_W1.to_csv('./labels/df_k5_eyepacs_w1.csv')\n",
    "# df = pd.read_csv('./labels/df_k5_eyepacs_w16.csv')"
   ]
  },
  {
   "cell_type": "code",
   "execution_count": 9,
   "id": "9f6c0243-1625-439e-9730-c24e15e5c198",
   "metadata": {},
   "outputs": [],
   "source": [
    "group_by_centers_k5_eyepacs_W1 = df_k5_eyepacs_W1.groupby(['centers'])"
   ]
  },
  {
   "cell_type": "code",
   "execution_count": 16,
   "id": "46490e06-0467-4952-914d-a22ee27f6fdc",
   "metadata": {},
   "outputs": [
    {
     "name": "stderr",
     "output_type": "stream",
     "text": [
      "/home/minkyu/.conda/envs/privacy/lib/python3.7/site-packages/ipykernel_launcher.py:15: UserWarning: Implicit dimension choice for softmax has been deprecated. Change the call to include dim=X as an argument.\n",
      "  from ipykernel import kernelapp as app\n"
     ]
    }
   ],
   "source": [
    "k5_eyepacs_W1_normalized_labels_npy = make_labels(df_k5_eyepacs_W1, group_by_centers_k5_eyepacs_W1)\n",
    "labels_name = './labels/k5_eyepacs_W1_normalized_labels.npy' \n",
    "np.save(labels_name, k5_eyepacs_W1_normalized_labels_npy)"
   ]
  },
  {
   "cell_type": "markdown",
   "id": "91dd9a7e-5a6b-4b81-8cf7-5abbfa85e0e7",
   "metadata": {},
   "source": [
    "### Make Centroid data folder"
   ]
  },
  {
   "cell_type": "code",
   "execution_count": 21,
   "id": "5379b7db-d672-4051-82d3-dfd5a9771207",
   "metadata": {},
   "outputs": [],
   "source": [
    "data_path = '/home/minkyu/privacy/ICML2022/classification/centroids/eyepacs/W1/'\n",
    "label_path = './labels/centroid_eyepacs_k5_W1.csv'"
   ]
  },
  {
   "cell_type": "code",
   "execution_count": 22,
   "id": "5627e4fb-317a-4872-9be6-5f1955921407",
   "metadata": {},
   "outputs": [
    {
     "name": "stdout",
     "output_type": "stream",
     "text": [
      "10000\n"
     ]
    }
   ],
   "source": [
    "make_centroid_folder(df=df_k5_eyepacs_W1, group_by_centers=group_by_centers_k5_eyepacs_W1, data_path=data_path, label_path=label_path, data_name='eyepacs')"
   ]
  },
  {
   "cell_type": "markdown",
   "id": "17ea069e-e2e8-40fd-a3d1-b77513a2f2ff",
   "metadata": {},
   "source": [
    "# Aptos"
   ]
  },
  {
   "cell_type": "markdown",
   "id": "95105549-de78-445b-b39a-3ce3f4a9bf31",
   "metadata": {},
   "source": [
    "### W[16,512], K=5"
   ]
  },
  {
   "cell_type": "markdown",
   "id": "3c039a3c-61b2-457c-b2a4-4c16b51084df",
   "metadata": {},
   "source": [
    "### Make Labels"
   ]
  },
  {
   "cell_type": "code",
   "execution_count": 14,
   "id": "551c5990-5937-447f-adbc-097d0acaefe4",
   "metadata": {},
   "outputs": [
    {
     "data": {
      "text/html": [
       "<div>\n",
       "<style scoped>\n",
       "    .dataframe tbody tr th:only-of-type {\n",
       "        vertical-align: middle;\n",
       "    }\n",
       "\n",
       "    .dataframe tbody tr th {\n",
       "        vertical-align: top;\n",
       "    }\n",
       "\n",
       "    .dataframe thead th {\n",
       "        text-align: right;\n",
       "    }\n",
       "</style>\n",
       "<table border=\"1\" class=\"dataframe\">\n",
       "  <thead>\n",
       "    <tr style=\"text-align: right;\">\n",
       "      <th></th>\n",
       "      <th>id_code</th>\n",
       "      <th>centers</th>\n",
       "      <th>count_centers</th>\n",
       "      <th>diagnosis</th>\n",
       "    </tr>\n",
       "  </thead>\n",
       "  <tbody>\n",
       "    <tr>\n",
       "      <th>0</th>\n",
       "      <td>000c1434d8d7</td>\n",
       "      <td>295</td>\n",
       "      <td>5</td>\n",
       "      <td>2</td>\n",
       "    </tr>\n",
       "    <tr>\n",
       "      <th>1</th>\n",
       "      <td>001639a390f0</td>\n",
       "      <td>75</td>\n",
       "      <td>5</td>\n",
       "      <td>4</td>\n",
       "    </tr>\n",
       "    <tr>\n",
       "      <th>2</th>\n",
       "      <td>0024cdab0c1e</td>\n",
       "      <td>296</td>\n",
       "      <td>5</td>\n",
       "      <td>1</td>\n",
       "    </tr>\n",
       "    <tr>\n",
       "      <th>3</th>\n",
       "      <td>005b95c28852</td>\n",
       "      <td>513</td>\n",
       "      <td>5</td>\n",
       "      <td>0</td>\n",
       "    </tr>\n",
       "    <tr>\n",
       "      <th>4</th>\n",
       "      <td>0083ee8054ee</td>\n",
       "      <td>527</td>\n",
       "      <td>5</td>\n",
       "      <td>4</td>\n",
       "    </tr>\n",
       "  </tbody>\n",
       "</table>\n",
       "</div>"
      ],
      "text/plain": [
       "        id_code  centers  count_centers  diagnosis\n",
       "0  000c1434d8d7      295              5          2\n",
       "1  001639a390f0       75              5          4\n",
       "2  0024cdab0c1e      296              5          1\n",
       "3  005b95c28852      513              5          0\n",
       "4  0083ee8054ee      527              5          4"
      ]
     },
     "execution_count": 14,
     "metadata": {},
     "output_type": "execute_result"
    }
   ],
   "source": [
    "k_5_aptos = pd.read_csv('/home/minkyu/privacy/ICML2022/same_kmeans_W16/labels/train_eyepacs_val_aptos_k5.csv')\n",
    "new_aptos_csv = pd.read_csv('/home/minkyu/privacy/data/splited_val/aptos/aptos_val_3000.csv')\n",
    "df_k5_aptos_W16 = pd.merge(k_5_aptos, new_aptos_csv, on='id_code')\n",
    "df_k5_aptos_W16.to_csv('./labels/df_k5_aptos_w16.csv')\n",
    "# df = pd.read_csv('./labels/df_k5_eyepacs_w16.csv')a\n",
    "df_k5_aptos_W16.head()"
   ]
  },
  {
   "cell_type": "code",
   "execution_count": 15,
   "id": "47da10fa-f1fe-4d77-b083-d4ea763ae4fc",
   "metadata": {},
   "outputs": [],
   "source": [
    "group_by_centers_k5_aptos_W16 = df_k5_aptos_W16.groupby(['centers'])"
   ]
  },
  {
   "cell_type": "code",
   "execution_count": 16,
   "id": "316b7623-c77a-496c-9489-e4bb88738d54",
   "metadata": {},
   "outputs": [
    {
     "name": "stderr",
     "output_type": "stream",
     "text": [
      "/home/minkyu/.conda/envs/privacy/lib/python3.7/site-packages/ipykernel_launcher.py:18: UserWarning: Implicit dimension choice for softmax has been deprecated. Change the call to include dim=X as an argument.\n"
     ]
    }
   ],
   "source": [
    "k5_aptos_W16_normalized_labels_npy = make_labels(df_k5_aptos_W16, group_by_centers_k5_aptos_W16,data_name='aptos')\n",
    "labels_name = './labels/k5_aptos_W16_normalized_labels.npy'\n",
    "np.save(labels_name, k5_aptos_W16_normalized_labels_npy)"
   ]
  },
  {
   "cell_type": "markdown",
   "id": "a0e1db52-cdf2-4dd4-a70c-cc0770ea7873",
   "metadata": {},
   "source": [
    "### Make Centroids Data Folder"
   ]
  },
  {
   "cell_type": "code",
   "execution_count": 16,
   "id": "6ae7e892-d841-4ddd-acc9-1e07782eee06",
   "metadata": {},
   "outputs": [],
   "source": [
    "data_path = '/home/unix/mjeon/privacy/ICML2022/classification/centroids/aptos/W16/'\n",
    "label_path = './labels/centroid_aptos_k5_W16.csv'"
   ]
  },
  {
   "cell_type": "code",
   "execution_count": 17,
   "id": "ff3e66f8-e2a3-4b13-85c4-ebce272c9367",
   "metadata": {},
   "outputs": [
    {
     "name": "stdout",
     "output_type": "stream",
     "text": [
      "3000\n"
     ]
    }
   ],
   "source": [
    "make_centroid_folder(df=df_k5_aptos_W16, group_by_centers=group_by_centers_k5_aptos_W16, data_path=data_path, label_path=label_path, data_name='aptos')"
   ]
  },
  {
   "cell_type": "markdown",
   "id": "bccc62fc-875c-4537-adec-a7eab1258f31",
   "metadata": {},
   "source": [
    "### W[1,512], K=5"
   ]
  },
  {
   "cell_type": "markdown",
   "id": "861f26c3-80ed-4b3e-be31-a11503116507",
   "metadata": {},
   "source": [
    "### Make Labels"
   ]
  },
  {
   "cell_type": "code",
   "execution_count": 17,
   "id": "f72fc0fd-ce88-4fb2-afbb-47e69df64c32",
   "metadata": {},
   "outputs": [
    {
     "data": {
      "text/html": [
       "<div>\n",
       "<style scoped>\n",
       "    .dataframe tbody tr th:only-of-type {\n",
       "        vertical-align: middle;\n",
       "    }\n",
       "\n",
       "    .dataframe tbody tr th {\n",
       "        vertical-align: top;\n",
       "    }\n",
       "\n",
       "    .dataframe thead th {\n",
       "        text-align: right;\n",
       "    }\n",
       "</style>\n",
       "<table border=\"1\" class=\"dataframe\">\n",
       "  <thead>\n",
       "    <tr style=\"text-align: right;\">\n",
       "      <th></th>\n",
       "      <th>id_code</th>\n",
       "      <th>centers</th>\n",
       "      <th>count_centers</th>\n",
       "      <th>diagnosis</th>\n",
       "    </tr>\n",
       "  </thead>\n",
       "  <tbody>\n",
       "    <tr>\n",
       "      <th>0</th>\n",
       "      <td>000c1434d8d7</td>\n",
       "      <td>285</td>\n",
       "      <td>5</td>\n",
       "      <td>2</td>\n",
       "    </tr>\n",
       "    <tr>\n",
       "      <th>1</th>\n",
       "      <td>001639a390f0</td>\n",
       "      <td>489</td>\n",
       "      <td>5</td>\n",
       "      <td>4</td>\n",
       "    </tr>\n",
       "    <tr>\n",
       "      <th>2</th>\n",
       "      <td>0024cdab0c1e</td>\n",
       "      <td>416</td>\n",
       "      <td>5</td>\n",
       "      <td>1</td>\n",
       "    </tr>\n",
       "    <tr>\n",
       "      <th>3</th>\n",
       "      <td>005b95c28852</td>\n",
       "      <td>44</td>\n",
       "      <td>5</td>\n",
       "      <td>0</td>\n",
       "    </tr>\n",
       "    <tr>\n",
       "      <th>4</th>\n",
       "      <td>0083ee8054ee</td>\n",
       "      <td>243</td>\n",
       "      <td>5</td>\n",
       "      <td>4</td>\n",
       "    </tr>\n",
       "  </tbody>\n",
       "</table>\n",
       "</div>"
      ],
      "text/plain": [
       "        id_code  centers  count_centers  diagnosis\n",
       "0  000c1434d8d7      285              5          2\n",
       "1  001639a390f0      489              5          4\n",
       "2  0024cdab0c1e      416              5          1\n",
       "3  005b95c28852       44              5          0\n",
       "4  0083ee8054ee      243              5          4"
      ]
     },
     "execution_count": 17,
     "metadata": {},
     "output_type": "execute_result"
    }
   ],
   "source": [
    "k_5_aptos = pd.read_csv('/home/minkyu/privacy/ICML2022/same_kmeans_W1/labels/train_eyepacs_infer_aptos_k5_1map2style.csv')\n",
    "new_aptos_csv = pd.read_csv('./labels/aptos_val_3000.csv')\n",
    "df_k5_aptos_W1 = pd.merge(k_5_aptos, new_aptos_csv, on='id_code')\n",
    "df_k5_aptos_W1.to_csv('./labels/df_k5_aptos_w1.csv')\n",
    "# df = pd.read_csv('./labels/df_k5_eyepacs_w16.csv')\n",
    "df_k5_aptos_W1.head()"
   ]
  },
  {
   "cell_type": "code",
   "execution_count": 18,
   "id": "f3be1adb-7107-4beb-8b11-e4ef95f964d2",
   "metadata": {},
   "outputs": [],
   "source": [
    "group_by_centers_k5_aptos_W1 = df_k5_aptos_W1.groupby(['centers'])"
   ]
  },
  {
   "cell_type": "code",
   "execution_count": 19,
   "id": "8ef0ab63-3946-4636-b721-4313c0cdf892",
   "metadata": {},
   "outputs": [
    {
     "name": "stderr",
     "output_type": "stream",
     "text": [
      "/home/minkyu/.conda/envs/privacy/lib/python3.7/site-packages/ipykernel_launcher.py:18: UserWarning: Implicit dimension choice for softmax has been deprecated. Change the call to include dim=X as an argument.\n"
     ]
    }
   ],
   "source": [
    "k5_aptos_W1_normalized_labels_npy = make_labels(df_k5_aptos_W1, group_by_centers_k5_aptos_W1,data_name='aptos')\n",
    "labels_name = './labels/k5_aptos_W1_normalized_labels.npy'\n",
    "np.save(labels_name, k5_aptos_W1_normalized_labels_npy)"
   ]
  },
  {
   "cell_type": "markdown",
   "id": "00d2a17d-525c-479d-86a5-6a86e61993cb",
   "metadata": {},
   "source": [
    "### Make Centroid Data folder"
   ]
  },
  {
   "cell_type": "code",
   "execution_count": 11,
   "id": "cbb1f0e4-0c8c-4873-8008-84e134ea994d",
   "metadata": {},
   "outputs": [],
   "source": [
    "data_path = '/home/minkyu/privacy/ICML2022/classification/centroids/aptos/W1/'\n",
    "label_path = './labels/centroid_aptos_k5_W1.csv'"
   ]
  },
  {
   "cell_type": "code",
   "execution_count": 12,
   "id": "401318da-8abe-40a7-b540-d71f2079e000",
   "metadata": {},
   "outputs": [
    {
     "name": "stdout",
     "output_type": "stream",
     "text": [
      "3000\n"
     ]
    }
   ],
   "source": [
    "make_centroid_folder(df=df_k5_aptos_W1, group_by_centers=group_by_centers_k5_aptos_W1, data_path=data_path, label_path=label_path, data_name='aptos')"
   ]
  },
  {
   "cell_type": "code",
   "execution_count": null,
   "id": "c6d73dd6-6d56-4afb-bba3-505ae4ce998c",
   "metadata": {},
   "outputs": [],
   "source": []
  }
 ],
 "metadata": {
  "kernelspec": {
   "display_name": "privacy",
   "language": "python",
   "name": "privacy"
  },
  "language_info": {
   "codemirror_mode": {
    "name": "ipython",
    "version": 3
   },
   "file_extension": ".py",
   "mimetype": "text/x-python",
   "name": "python",
   "nbconvert_exporter": "python",
   "pygments_lexer": "ipython3",
   "version": "3.7.11"
  }
 },
 "nbformat": 4,
 "nbformat_minor": 5
}
