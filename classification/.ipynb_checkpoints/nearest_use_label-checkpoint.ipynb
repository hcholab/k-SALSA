{
 "cells": [
  {
   "cell_type": "code",
   "execution_count": 1,
   "id": "5c2c77d6-a848-44da-b646-b9c5a5c6d9a9",
   "metadata": {},
   "outputs": [],
   "source": [
    "import pandas as pd\n",
    "import numpy as np\n",
    "import matplotlib.pyplot as plt\n",
    "from collections import Counter\n",
    "\n",
    "import torch\n",
    "import torch.nn as nn\n",
    "import torch.nn.functional as F  \n",
    "\n",
    "import os\n",
    "import shutil"
   ]
  },
  {
   "cell_type": "code",
   "execution_count": 2,
   "id": "d16fdf74-a513-44b7-ab55-3d005aff3b0b",
   "metadata": {},
   "outputs": [],
   "source": [
    "lst = os.listdir('/home/minkyu/privacy/ECCV2022/nearest_neighbor_samesize/ECCV_aptos_k5_nearest_samesize_uselabel/inference_results/4')"
   ]
  },
  {
   "cell_type": "code",
   "execution_count": 4,
   "id": "2b8c31a7-2538-4411-98eb-c84e98781533",
   "metadata": {},
   "outputs": [],
   "source": [
    "label_df = pd.read_csv('/home/minkyu/privacy/ECCV2022/nearest_neighbor_samesize/ECCV/aptos/nearest_neighbor_centroid/labels/k5_aptos_nearest_use_label_df.csv')"
   ]
  },
  {
   "cell_type": "code",
   "execution_count": 5,
   "id": "5d1f0156-56f7-40a4-a2f8-41fc44dfa759",
   "metadata": {},
   "outputs": [
    {
     "data": {
      "text/html": [
       "<div>\n",
       "<style scoped>\n",
       "    .dataframe tbody tr th:only-of-type {\n",
       "        vertical-align: middle;\n",
       "    }\n",
       "\n",
       "    .dataframe tbody tr th {\n",
       "        vertical-align: top;\n",
       "    }\n",
       "\n",
       "    .dataframe thead th {\n",
       "        text-align: right;\n",
       "    }\n",
       "</style>\n",
       "<table border=\"1\" class=\"dataframe\">\n",
       "  <thead>\n",
       "    <tr style=\"text-align: right;\">\n",
       "      <th></th>\n",
       "      <th>id_code</th>\n",
       "      <th>centers</th>\n",
       "      <th>count_centers</th>\n",
       "      <th>diagnosis</th>\n",
       "    </tr>\n",
       "  </thead>\n",
       "  <tbody>\n",
       "    <tr>\n",
       "      <th>0</th>\n",
       "      <td>005b95c28852</td>\n",
       "      <td>229</td>\n",
       "      <td>5</td>\n",
       "      <td>0</td>\n",
       "    </tr>\n",
       "    <tr>\n",
       "      <th>1</th>\n",
       "      <td>0097f532ac9f</td>\n",
       "      <td>77</td>\n",
       "      <td>5</td>\n",
       "      <td>0</td>\n",
       "    </tr>\n",
       "    <tr>\n",
       "      <th>2</th>\n",
       "      <td>00cc2b75cddd</td>\n",
       "      <td>211</td>\n",
       "      <td>5</td>\n",
       "      <td>0</td>\n",
       "    </tr>\n",
       "    <tr>\n",
       "      <th>3</th>\n",
       "      <td>0125fbd2e791</td>\n",
       "      <td>181</td>\n",
       "      <td>5</td>\n",
       "      <td>0</td>\n",
       "    </tr>\n",
       "    <tr>\n",
       "      <th>4</th>\n",
       "      <td>014508ccb9cb</td>\n",
       "      <td>135</td>\n",
       "      <td>5</td>\n",
       "      <td>0</td>\n",
       "    </tr>\n",
       "  </tbody>\n",
       "</table>\n",
       "</div>"
      ],
      "text/plain": [
       "        id_code  centers  count_centers  diagnosis\n",
       "0  005b95c28852      229              5          0\n",
       "1  0097f532ac9f       77              5          0\n",
       "2  00cc2b75cddd      211              5          0\n",
       "3  0125fbd2e791      181              5          0\n",
       "4  014508ccb9cb      135              5          0"
      ]
     },
     "execution_count": 5,
     "metadata": {},
     "output_type": "execute_result"
    }
   ],
   "source": [
    "label_df.head()"
   ]
  },
  {
   "cell_type": "code",
   "execution_count": 17,
   "id": "8895f03e-e09c-4dbd-b5a6-7ea9f735e3cd",
   "metadata": {},
   "outputs": [],
   "source": [
    "for i in range(len(lst)):\n",
    "    if i == 0:\n",
    "        new_pd = label_df[label_df['id_code'] == lst[i][:-5]]\n",
    "    else:\n",
    "        b = label_df[label_df['id_code'] == lst[i][:-5]]\n",
    "        new_pd = pd.concat([new_pd,b])"
   ]
  },
  {
   "cell_type": "code",
   "execution_count": 20,
   "id": "82b9ad0c-dc3b-4729-96da-1bdf09281797",
   "metadata": {},
   "outputs": [
    {
     "data": {
      "text/html": [
       "<div>\n",
       "<style scoped>\n",
       "    .dataframe tbody tr th:only-of-type {\n",
       "        vertical-align: middle;\n",
       "    }\n",
       "\n",
       "    .dataframe tbody tr th {\n",
       "        vertical-align: top;\n",
       "    }\n",
       "\n",
       "    .dataframe thead th {\n",
       "        text-align: right;\n",
       "    }\n",
       "</style>\n",
       "<table border=\"1\" class=\"dataframe\">\n",
       "  <thead>\n",
       "    <tr style=\"text-align: right;\">\n",
       "      <th></th>\n",
       "      <th>id_code</th>\n",
       "      <th>centers</th>\n",
       "      <th>count_centers</th>\n",
       "      <th>diagnosis</th>\n",
       "    </tr>\n",
       "  </thead>\n",
       "  <tbody>\n",
       "    <tr>\n",
       "      <th>1465</th>\n",
       "      <td>0024cdab0c1e</td>\n",
       "      <td>60</td>\n",
       "      <td>5</td>\n",
       "      <td>1</td>\n",
       "    </tr>\n",
       "    <tr>\n",
       "      <th>93</th>\n",
       "      <td>12ab2f6397f0</td>\n",
       "      <td>24</td>\n",
       "      <td>5</td>\n",
       "      <td>0</td>\n",
       "    </tr>\n",
       "    <tr>\n",
       "      <th>2778</th>\n",
       "      <td>20d5fdd450ae</td>\n",
       "      <td>17</td>\n",
       "      <td>5</td>\n",
       "      <td>4</td>\n",
       "    </tr>\n",
       "    <tr>\n",
       "      <th>1936</th>\n",
       "      <td>2fdffb6160a6</td>\n",
       "      <td>124</td>\n",
       "      <td>5</td>\n",
       "      <td>2</td>\n",
       "    </tr>\n",
       "    <tr>\n",
       "      <th>2828</th>\n",
       "      <td>55eb405ec71e</td>\n",
       "      <td>32</td>\n",
       "      <td>5</td>\n",
       "      <td>4</td>\n",
       "    </tr>\n",
       "  </tbody>\n",
       "</table>\n",
       "</div>"
      ],
      "text/plain": [
       "           id_code  centers  count_centers  diagnosis\n",
       "1465  0024cdab0c1e       60              5          1\n",
       "93    12ab2f6397f0       24              5          0\n",
       "2778  20d5fdd450ae       17              5          4\n",
       "1936  2fdffb6160a6      124              5          2\n",
       "2828  55eb405ec71e       32              5          4"
      ]
     },
     "execution_count": 20,
     "metadata": {},
     "output_type": "execute_result"
    }
   ],
   "source": [
    "new_pd.head()"
   ]
  },
  {
   "cell_type": "code",
   "execution_count": 21,
   "id": "3d7e22b6-8fe1-4a3c-a74b-37f2cb368430",
   "metadata": {},
   "outputs": [],
   "source": [
    "new_pd.to_csv('aptos_k5_use_label.csv', index=False)"
   ]
  }
 ],
 "metadata": {
  "kernelspec": {
   "display_name": "privacy",
   "language": "python",
   "name": "privacy"
  },
  "language_info": {
   "codemirror_mode": {
    "name": "ipython",
    "version": 3
   },
   "file_extension": ".py",
   "mimetype": "text/x-python",
   "name": "python",
   "nbconvert_exporter": "python",
   "pygments_lexer": "ipython3",
   "version": "3.7.11"
  }
 },
 "nbformat": 4,
 "nbformat_minor": 5
}
