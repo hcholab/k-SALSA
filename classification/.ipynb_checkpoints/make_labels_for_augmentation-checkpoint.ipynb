{
 "cells": [
  {
   "cell_type": "code",
   "execution_count": 1,
   "id": "c51884f2-b73a-4b88-9d5d-6f77bc1c2018",
   "metadata": {},
   "outputs": [],
   "source": [
    "import pandas as pd\n",
    "import numpy as np\n",
    "import matplotlib.pyplot as plt\n",
    "from collections import Counter\n",
    "\n",
    "import torch\n",
    "import torch.nn as nn\n",
    "import torch.nn.functional as F \n",
    "\n",
    "import os\n",
    "import shutil"
   ]
  },
  {
   "cell_type": "code",
   "execution_count": 2,
   "id": "e2fe53f3-6d27-4582-b330-d39d90ad8793",
   "metadata": {},
   "outputs": [],
   "source": [
    "def make_labels(df, group_by_centers, data_name='eyepacs'):\n",
    "    labels_lst = []\n",
    "    for i in range(len(group_by_centers)):\n",
    "        a = df[df['centers']==i]\n",
    "        if data_name == 'eyepacs':\n",
    "            a_array = np.asarray(a['level'])\n",
    "        else:\n",
    "            a_array = np.asarray(a['diagnosis'])\n",
    "        cluster_label = Counter(a_array)\n",
    "        labels = np.zeros([5])\n",
    "        \n",
    "        for j in range(5):\n",
    "            labels[j] = cluster_label[j]\n",
    "        labels_lst.append(labels)\n",
    "        \n",
    "    labels_npy = np.asarray(labels_lst)\n",
    "    labels_tensor = torch.from_numpy(labels_npy)\n",
    "    normalized_labels = F.softmax(labels_tensor)\n",
    "\n",
    "    normalized_labels_npy = np.asarray(normalized_labels)\n",
    "    return normalized_labels_npy"
   ]
  },
  {
   "cell_type": "code",
   "execution_count": 3,
   "id": "c8921e08-e589-4160-a4e4-309c120c9ec3",
   "metadata": {},
   "outputs": [
    {
     "data": {
      "text/html": [
       "<div>\n",
       "<style scoped>\n",
       "    .dataframe tbody tr th:only-of-type {\n",
       "        vertical-align: middle;\n",
       "    }\n",
       "\n",
       "    .dataframe tbody tr th {\n",
       "        vertical-align: top;\n",
       "    }\n",
       "\n",
       "    .dataframe thead th {\n",
       "        text-align: right;\n",
       "    }\n",
       "</style>\n",
       "<table border=\"1\" class=\"dataframe\">\n",
       "  <thead>\n",
       "    <tr style=\"text-align: right;\">\n",
       "      <th></th>\n",
       "      <th>id_code</th>\n",
       "      <th>centers</th>\n",
       "      <th>count_centers</th>\n",
       "      <th>diagnosis</th>\n",
       "    </tr>\n",
       "  </thead>\n",
       "  <tbody>\n",
       "    <tr>\n",
       "      <th>0</th>\n",
       "      <td>000c1434d8d7</td>\n",
       "      <td>489</td>\n",
       "      <td>5</td>\n",
       "      <td>2</td>\n",
       "    </tr>\n",
       "    <tr>\n",
       "      <th>1</th>\n",
       "      <td>001639a390f0</td>\n",
       "      <td>414</td>\n",
       "      <td>5</td>\n",
       "      <td>4</td>\n",
       "    </tr>\n",
       "    <tr>\n",
       "      <th>2</th>\n",
       "      <td>0024cdab0c1e</td>\n",
       "      <td>92</td>\n",
       "      <td>5</td>\n",
       "      <td>1</td>\n",
       "    </tr>\n",
       "    <tr>\n",
       "      <th>3</th>\n",
       "      <td>005b95c28852</td>\n",
       "      <td>401</td>\n",
       "      <td>5</td>\n",
       "      <td>0</td>\n",
       "    </tr>\n",
       "    <tr>\n",
       "      <th>4</th>\n",
       "      <td>0083ee8054ee</td>\n",
       "      <td>52</td>\n",
       "      <td>5</td>\n",
       "      <td>4</td>\n",
       "    </tr>\n",
       "  </tbody>\n",
       "</table>\n",
       "</div>"
      ],
      "text/plain": [
       "        id_code  centers  count_centers  diagnosis\n",
       "0  000c1434d8d7      489              5          2\n",
       "1  001639a390f0      414              5          4\n",
       "2  0024cdab0c1e       92              5          1\n",
       "3  005b95c28852      401              5          0\n",
       "4  0083ee8054ee       52              5          4"
      ]
     },
     "execution_count": 3,
     "metadata": {},
     "output_type": "execute_result"
    }
   ],
   "source": [
    "k_5_aptos = pd.read_csv('/home/minkyu/privacy/ICML2022/same_kmeans_W16/labels/train_whole_aptos_infer_3000aptos_k5.csv')\n",
    "new_aptos_csv = pd.read_csv('/home/minkyu/privacy/data/splited_val/aptos/aptos_val_3000.csv')\n",
    "df_k5_aptos_W16 = pd.merge(k_5_aptos, new_aptos_csv, on='id_code')\n",
    "df_k5_aptos_W16.to_csv('./labels/augment/df_k5_aptos_whole_w16_augment3000.csv')\n",
    "# df = pd.read_csv('./labels/df_k5_eyepacs_w16.csv')\n",
    "df_k5_aptos_W16.head()"
   ]
  },
  {
   "cell_type": "markdown",
   "id": "953e494d-5022-45d9-816f-9f7165e6636c",
   "metadata": {},
   "source": [
    "### Make labels"
   ]
  },
  {
   "cell_type": "code",
   "execution_count": 4,
   "id": "80a20495-3309-4e31-90ce-2105e086b13b",
   "metadata": {},
   "outputs": [
    {
     "name": "stderr",
     "output_type": "stream",
     "text": [
      "/home/minkyu/.conda/envs/privacy/lib/python3.7/site-packages/ipykernel_launcher.py:18: UserWarning: Implicit dimension choice for softmax has been deprecated. Change the call to include dim=X as an argument.\n"
     ]
    },
    {
     "data": {
      "text/plain": [
       "torch.Size([600])"
      ]
     },
     "execution_count": 4,
     "metadata": {},
     "output_type": "execute_result"
    }
   ],
   "source": [
    "group_by_centers_k5_aptos_W16 = df_k5_aptos_W16.groupby(['centers'])\n",
    "k5_aptos_W16_normalized_labels_npy = make_labels(df_k5_aptos_W16, group_by_centers_k5_aptos_W16,data_name='aptos')\n",
    "y = torch.from_numpy(k5_aptos_W16_normalized_labels_npy)\n",
    "y2 = torch.max(y,1)[1]\n",
    "y2.shape"
   ]
  },
  {
   "cell_type": "code",
   "execution_count": null,
   "id": "23fdc046-7473-4201-a896-9733a3f8355a",
   "metadata": {},
   "outputs": [],
   "source": [
    "data_path = '/home/minkyu/privacy/ICML2022/classification/centroids/aptos/centroid_augment/'\n",
    "label_path = './labels/aptos/augment/train_whole_aptos_infer_augment_3000aptos_k5.csv'"
   ]
  },
  {
   "cell_type": "code",
   "execution_count": null,
   "id": "9a24301e-8eca-4152-b1ce-9c4bd0c75f01",
   "metadata": {},
   "outputs": [],
   "source": [
    "df = df_k5_aptos_W16\n",
    "group_by_centers = group_by_centers_k5_aptos_W16"
   ]
  },
  {
   "cell_type": "code",
   "execution_count": null,
   "id": "56ca14ad-605c-4d22-b48b-2576aa5fc306",
   "metadata": {},
   "outputs": [],
   "source": [
    "lst_for_id = []\n",
    "for i in range(len(group_by_centers)):\n",
    "    for j in range(5):\n",
    "        name = df[df['centers']==i]['id_code'].iloc[0]+'_'+str(j)\n",
    "        lst_for_id.append(name)\n",
    "\n",
    "lst_for_centers = []\n",
    "for i in range(len(group_by_centers)):\n",
    "    for j in range(5):\n",
    "        lst_for_centers.append(i)\n",
    "        \n",
    "data = {'id_code':lst_for_id, 'centers':lst_for_centers}\n",
    "new_data = pd.DataFrame(data)\n",
    "new_data.to_csv(label_path,index=False)\n",
    "\n",
    "source = data_path+'0/'\n",
    "dest = data_path+'k5_images/'\n",
    "\n",
    "total_data_lst = os.listdir(data_path+'0')\n",
    "\n",
    "for i in range(len(total_data_lst)):\n",
    "    a = new_data[total_data_lst[i][:-4] == new_data['id_code']]['id_code']+'.png'\n",
    "    name = a.to_string(index=False)\n",
    "    if name =='Series([], )':\n",
    "        pass\n",
    "    else:\n",
    "        shutil.move(source+name, dest)"
   ]
  },
  {
   "cell_type": "code",
   "execution_count": null,
   "id": "91d0b69e-ab16-4527-bdb3-b4299a6d70ff",
   "metadata": {},
   "outputs": [],
   "source": [
    "Y = []\n",
    "for y_val in y2:\n",
    "    for j in range(5):\n",
    "        Y.append(y_val)\n",
    "Y = np.asarray(Y)"
   ]
  },
  {
   "cell_type": "code",
   "execution_count": null,
   "id": "090686bb-1153-4743-b9ac-6f4ad1dae4b1",
   "metadata": {},
   "outputs": [],
   "source": [
    "new_data['diagnosis'] = Y\n",
    "new_data.to_csv('./labels/augment/df_k5_aptos_augment3000.csv')"
   ]
  }
 ],
 "metadata": {
  "kernelspec": {
   "display_name": "privacy",
   "language": "python",
   "name": "privacy"
  },
  "language_info": {
   "codemirror_mode": {
    "name": "ipython",
    "version": 3
   },
   "file_extension": ".py",
   "mimetype": "text/x-python",
   "name": "python",
   "nbconvert_exporter": "python",
   "pygments_lexer": "ipython3",
   "version": "3.7.11"
  }
 },
 "nbformat": 4,
 "nbformat_minor": 5
}
