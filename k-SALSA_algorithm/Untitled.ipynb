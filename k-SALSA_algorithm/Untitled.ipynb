{
 "cells": [
  {
   "cell_type": "code",
   "execution_count": 2,
   "id": "122e7dac-d724-4f9c-89d9-15eb89795244",
   "metadata": {},
   "outputs": [],
   "source": [
    "import scipy.spatial.distance\n",
    "import numpy as np\n",
    "import torch"
   ]
  },
  {
   "cell_type": "code",
   "execution_count": 4,
   "id": "072a75f2-6def-458a-bf11-c72fc92bba1d",
   "metadata": {},
   "outputs": [],
   "source": [
    "features = torch.randn(16,512)\n",
    "features = np.asarray(features)"
   ]
  },
  {
   "cell_type": "code",
   "execution_count": 19,
   "id": "2405cf74-2a72-4368-b322-df1d925ff43c",
   "metadata": {},
   "outputs": [],
   "source": [
    "D = scipy.spatial.distance.squareform(scipy.spatial.distance.pdist(features)) # [16,16]"
   ]
  },
  {
   "cell_type": "code",
   "execution_count": 20,
   "id": "15a5360b-0ffb-494e-904a-e77c225da5f5",
   "metadata": {},
   "outputs": [],
   "source": [
    "D = D.copy()\n",
    "n = D.shape[0]"
   ]
  },
  {
   "cell_type": "code",
   "execution_count": 21,
   "id": "75724913-8285-44a7-89e8-39f3c42027f3",
   "metadata": {},
   "outputs": [],
   "source": [
    "D += np.diag([np.nan]*n)"
   ]
  },
  {
   "cell_type": "code",
   "execution_count": 24,
   "id": "34b54a0c-c9d3-4787-8526-6fa4bdf7527c",
   "metadata": {},
   "outputs": [],
   "source": [
    "def maxD(M, allowed):\n",
    "    s = np.nansum(M, axis=1)\n",
    "    s[~allowed] = np.nan\n",
    "    return np.nanargmax(s)"
   ]
  },
  {
   "cell_type": "code",
   "execution_count": 22,
   "id": "d2b02a2e-7833-4b87-9dcc-36e317c6a175",
   "metadata": {},
   "outputs": [
    {
     "name": "stderr",
     "output_type": "stream",
     "text": [
      "/home/unix/mjeon/anaconda3/envs/privacy/lib/python3.7/site-packages/ipykernel_launcher.py:1: DeprecationWarning: `np.int` is a deprecated alias for the builtin `int`. To silence this warning, use `int` by itself. Doing this will not modify any behavior and is safe. When replacing `np.int`, you may wish to use e.g. `np.int64` or `np.int32` to specify the precision. If you wish to review your current use, check the release note link for additional information.\n",
      "Deprecated in NumPy 1.20; for more details and guidance: https://numpy.org/devdocs/release/1.20.0-notes.html#deprecations\n",
      "  \"\"\"Entry point for launching an IPython kernel.\n"
     ]
    }
   ],
   "source": [
    "clust_inds = np.zeros(n, dtype=np.int) + np.nan\n",
    "cur_index = 1"
   ]
  },
  {
   "cell_type": "code",
   "execution_count": 8,
   "id": "86554c12-d6b9-4362-b938-b89b14d2ad86",
   "metadata": {},
   "outputs": [],
   "source": [
    "# takes N by N precomputed distance matrix D\n",
    "# outputs a length N cluster assignment vector with indicies 1..C for C clusters\n",
    "def nearestNeighborClust(D, clust_size=2):\n",
    "    D = D.copy()\n",
    "    n = D.shape[0]\n",
    "    assert D.shape[1] == n\n",
    "\n",
    "    D += np.diag([np.nan] * n)\n",
    "    def maxD(M, allowed):\n",
    "        s = np.nansum(M,axis=1)\n",
    "        s[~allowed] = np.nan\n",
    "        return np.nanargmax(s)\n",
    "    \n",
    "    clust_inds = np.zeros(n, dtype=np.int) + np.nan\n",
    "    cur_index = 1\n",
    "    while np.any(np.isnan(clust_inds)):\n",
    "        # Choose maxD point\n",
    "        next_point = maxD(D, np.isnan(clust_inds))\n",
    "    \n",
    "        # Find clust_size-1 closest points\n",
    "        nearest = np.argsort(D[next_point,:])[:clust_size-1]\n",
    "        \n",
    "        # Assign cluster\n",
    "        cluster = np.append(nearest, next_point).astype(np.int)\n",
    "        clust_inds[cluster] = cur_index\n",
    "        \n",
    "        # Update matrix\n",
    "        D[cluster,:] = np.nan\n",
    "        D[:,cluster] = np.nan\n",
    "        \n",
    "        cur_index += 1\n",
    "    return clust_inds.astype(np.int)"
   ]
  },
  {
   "cell_type": "code",
   "execution_count": 10,
   "id": "04903991-b276-4ad3-882b-d5cf3f6eedd0",
   "metadata": {},
   "outputs": [
    {
     "name": "stderr",
     "output_type": "stream",
     "text": [
      "/home/unix/mjeon/anaconda3/envs/privacy/lib/python3.7/site-packages/ipykernel_launcher.py:14: DeprecationWarning: `np.int` is a deprecated alias for the builtin `int`. To silence this warning, use `int` by itself. Doing this will not modify any behavior and is safe. When replacing `np.int`, you may wish to use e.g. `np.int64` or `np.int32` to specify the precision. If you wish to review your current use, check the release note link for additional information.\n",
      "Deprecated in NumPy 1.20; for more details and guidance: https://numpy.org/devdocs/release/1.20.0-notes.html#deprecations\n",
      "  \n",
      "/home/unix/mjeon/anaconda3/envs/privacy/lib/python3.7/site-packages/ipykernel_launcher.py:24: DeprecationWarning: `np.int` is a deprecated alias for the builtin `int`. To silence this warning, use `int` by itself. Doing this will not modify any behavior and is safe. When replacing `np.int`, you may wish to use e.g. `np.int64` or `np.int32` to specify the precision. If you wish to review your current use, check the release note link for additional information.\n",
      "Deprecated in NumPy 1.20; for more details and guidance: https://numpy.org/devdocs/release/1.20.0-notes.html#deprecations\n",
      "/home/unix/mjeon/anaconda3/envs/privacy/lib/python3.7/site-packages/ipykernel_launcher.py:32: DeprecationWarning: `np.int` is a deprecated alias for the builtin `int`. To silence this warning, use `int` by itself. Doing this will not modify any behavior and is safe. When replacing `np.int`, you may wish to use e.g. `np.int64` or `np.int32` to specify the precision. If you wish to review your current use, check the release note link for additional information.\n",
      "Deprecated in NumPy 1.20; for more details and guidance: https://numpy.org/devdocs/release/1.20.0-notes.html#deprecations\n"
     ]
    }
   ],
   "source": [
    "centroid_idx = nearestNeighborClust(predistance, clust_size=5)"
   ]
  },
  {
   "cell_type": "code",
   "execution_count": 33,
   "id": "91edd497-b995-4216-942f-38317b4fbab0",
   "metadata": {},
   "outputs": [],
   "source": [
    "a = torch.randn(16,16*16)"
   ]
  },
  {
   "cell_type": "code",
   "execution_count": 36,
   "id": "5a34de73-dc7f-4055-993e-5da42dac8d1f",
   "metadata": {},
   "outputs": [
    {
     "data": {
      "text/plain": [
       "tensor([[ 0.0360,  1.5181,  0.6306,  ...,  2.2740, -1.5352,  0.7248],\n",
       "        [-0.6991, -0.1427,  0.1687,  ..., -0.9486, -1.9707, -1.5147],\n",
       "        [-0.2743, -0.1444,  0.9321,  ...,  0.0250, -0.9977, -1.6982],\n",
       "        ...,\n",
       "        [ 0.0735,  0.4119,  0.3067,  ...,  2.1728, -0.5541, -0.4576],\n",
       "        [-0.2734,  0.8776,  1.9781,  ...,  0.6326,  0.0446,  0.0163],\n",
       "        [-0.5316, -1.7545, -0.6329,  ..., -1.7420,  0.6207, -1.2899]])"
      ]
     },
     "execution_count": 36,
     "metadata": {},
     "output_type": "execute_result"
    }
   ],
   "source": [
    "a"
   ]
  },
  {
   "cell_type": "code",
   "execution_count": 37,
   "id": "4e24dd0a-25c6-4123-b61b-9e947df281ea",
   "metadata": {},
   "outputs": [
    {
     "data": {
      "text/plain": [
       "tensor([[ 0.0360, -0.6991, -0.2743,  ...,  0.0735, -0.2734, -0.5316],\n",
       "        [ 1.5181, -0.1427, -0.1444,  ...,  0.4119,  0.8776, -1.7545],\n",
       "        [ 0.6306,  0.1687,  0.9321,  ...,  0.3067,  1.9781, -0.6329],\n",
       "        ...,\n",
       "        [ 2.2740, -0.9486,  0.0250,  ...,  2.1728,  0.6326, -1.7420],\n",
       "        [-1.5352, -1.9707, -0.9977,  ..., -0.5541,  0.0446,  0.6207],\n",
       "        [ 0.7248, -1.5147, -1.6982,  ..., -0.4576,  0.0163, -1.2899]])"
      ]
     },
     "execution_count": 37,
     "metadata": {},
     "output_type": "execute_result"
    }
   ],
   "source": [
    "a.T"
   ]
  },
  {
   "cell_type": "code",
   "execution_count": 45,
   "id": "fc134641-9a09-410c-bee4-4f9414b78cda",
   "metadata": {},
   "outputs": [
    {
     "name": "stdout",
     "output_type": "stream",
     "text": [
      "tensor([[1, 2],\n",
      "        [3, 4]])\n",
      "tensor([[1, 3],\n",
      "        [2, 4]])\n"
     ]
    }
   ],
   "source": [
    "a = torch.tensor([[1,2],[3,4]])\n",
    "print(a)\n",
    "print(a.T)"
   ]
  },
  {
   "cell_type": "code",
   "execution_count": 44,
   "id": "cdc7d81f-bfed-4432-bb87-49c9d5cb9afb",
   "metadata": {},
   "outputs": [
    {
     "data": {
      "text/plain": [
       "tensor([[ 5, 11],\n",
       "        [11, 25]])"
      ]
     },
     "execution_count": 44,
     "metadata": {},
     "output_type": "execute_result"
    }
   ],
   "source": [
    "a @ a.T"
   ]
  }
 ],
 "metadata": {
  "kernelspec": {
   "display_name": "privacy",
   "language": "python",
   "name": "privacy"
  },
  "language_info": {
   "codemirror_mode": {
    "name": "ipython",
    "version": 3
   },
   "file_extension": ".py",
   "mimetype": "text/x-python",
   "name": "python",
   "nbconvert_exporter": "python",
   "pygments_lexer": "ipython3",
   "version": "3.7.11"
  }
 },
 "nbformat": 4,
 "nbformat_minor": 5
}
